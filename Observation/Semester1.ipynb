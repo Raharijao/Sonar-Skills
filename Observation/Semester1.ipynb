{
 "cells": [
  {
   "cell_type": "code",
   "execution_count": 1,
   "id": "844389c4-7214-468e-b215-f7ecf47705da",
   "metadata": {
    "collapsed": true,
    "jupyter": {
     "outputs_hidden": true
    },
    "tags": []
   },
   "outputs": [
    {
     "name": "stdout",
     "output_type": "stream",
     "text": [
      "Defaulting to user installation because normal site-packages is not writeable\n",
      "Requirement already satisfied: ipython-sql in ./.local/lib/python3.6/site-packages (0.4.1)\n",
      "Requirement already satisfied: six in /usr/lib/python3.6/site-packages (from ipython-sql) (1.14.0)\n",
      "Requirement already satisfied: ipython-genutils>=0.1.0 in /usr/local/lib/python3.6/site-packages (from ipython-sql) (0.2.0)\n",
      "Requirement already satisfied: ipython>=1.0 in /usr/local/lib/python3.6/site-packages (from ipython-sql) (7.16.3)\n",
      "Requirement already satisfied: sqlparse in ./.local/lib/python3.6/site-packages (from ipython-sql) (0.4.3)\n",
      "Requirement already satisfied: sqlalchemy>=0.6.7 in ./.local/lib/python3.6/site-packages (from ipython-sql) (1.4.43)\n",
      "Requirement already satisfied: prettytable<1 in ./.local/lib/python3.6/site-packages (from ipython-sql) (0.7.2)\n",
      "Requirement already satisfied: backcall in /usr/local/lib/python3.6/site-packages (from ipython>=1.0->ipython-sql) (0.2.0)\n",
      "Requirement already satisfied: decorator in /usr/local/lib/python3.6/site-packages (from ipython>=1.0->ipython-sql) (5.1.1)\n",
      "Requirement already satisfied: pickleshare in /usr/local/lib/python3.6/site-packages (from ipython>=1.0->ipython-sql) (0.7.5)\n",
      "Requirement already satisfied: jedi<=0.17.2,>=0.10 in /usr/local/lib/python3.6/site-packages (from ipython>=1.0->ipython-sql) (0.17.2)\n",
      "Requirement already satisfied: setuptools>=18.5 in /usr/lib/python3.6/site-packages (from ipython>=1.0->ipython-sql) (39.2.0)\n",
      "Requirement already satisfied: prompt-toolkit!=3.0.0,!=3.0.1,<3.1.0,>=2.0.0 in /usr/local/lib/python3.6/site-packages (from ipython>=1.0->ipython-sql) (3.0.30)\n",
      "Requirement already satisfied: pexpect in /usr/local/lib/python3.6/site-packages (from ipython>=1.0->ipython-sql) (4.8.0)\n",
      "Requirement already satisfied: pygments in /usr/local/lib/python3.6/site-packages (from ipython>=1.0->ipython-sql) (2.12.0)\n",
      "Requirement already satisfied: traitlets>=4.2 in /usr/local/lib/python3.6/site-packages (from ipython>=1.0->ipython-sql) (4.3.3)\n",
      "Requirement already satisfied: greenlet!=0.4.17 in ./.local/lib/python3.6/site-packages (from sqlalchemy>=0.6.7->ipython-sql) (2.0.0.post0)\n",
      "Requirement already satisfied: importlib-metadata in /usr/local/lib/python3.6/site-packages (from sqlalchemy>=0.6.7->ipython-sql) (4.8.3)\n",
      "Requirement already satisfied: parso<0.8.0,>=0.7.0 in /usr/local/lib/python3.6/site-packages (from jedi<=0.17.2,>=0.10->ipython>=1.0->ipython-sql) (0.7.1)\n",
      "Requirement already satisfied: wcwidth in /usr/local/lib/python3.6/site-packages (from prompt-toolkit!=3.0.0,!=3.0.1,<3.1.0,>=2.0.0->ipython>=1.0->ipython-sql) (0.2.5)\n",
      "Requirement already satisfied: typing-extensions>=3.6.4 in /usr/local/lib/python3.6/site-packages (from importlib-metadata->sqlalchemy>=0.6.7->ipython-sql) (4.1.1)\n",
      "Requirement already satisfied: zipp>=0.5 in /usr/local/lib/python3.6/site-packages (from importlib-metadata->sqlalchemy>=0.6.7->ipython-sql) (3.6.0)\n",
      "Requirement already satisfied: ptyprocess>=0.5 in /usr/local/lib/python3.6/site-packages (from pexpect->ipython>=1.0->ipython-sql) (0.7.0)\n"
     ]
    }
   ],
   "source": [
    "!pip install ipython-sql"
   ]
  },
  {
   "cell_type": "code",
   "execution_count": 45,
   "id": "1e0b9070-f938-4531-a077-ea791020f722",
   "metadata": {
    "tags": []
   },
   "outputs": [],
   "source": [
    "import pandas as pd\n",
    "import sqlite3\n",
    "from sklearn.linear_model import LinearRegression\n",
    "from sklearn.model_selection import train_test_split\n",
    "import numpy as np\n",
    "import matplotlib.pyplot as plt\n",
    "%matplotlib inline\n",
    "\n"
   ]
  },
  {
   "cell_type": "code",
   "execution_count": 166,
   "id": "df7b5877-9169-454b-a215-d881dc556d8e",
   "metadata": {
    "tags": []
   },
   "outputs": [
    {
     "data": {
      "text/plain": [
       "Index(['Student Number', 'Combined Score', 'Physics Score', 'Clinical Score',\n",
       "       'Dexterity Score', 'Persistence Score', 'Problem Solving Score',\n",
       "       'Graphs Score', 'Judgement Score', 'Spatial Score',\n",
       "       'Visualization Score', 'Logic Score', 'Final Grade'],\n",
       "      dtype='object')"
      ]
     },
     "execution_count": 166,
     "metadata": {},
     "output_type": "execute_result"
    }
   ],
   "source": [
    "#Load all files, PreApplicant scores:\n",
    "preApp_A = pd.read_csv(\"Files/Reformated data/PreapplicationLmod.csv\")\n",
    "\n",
    "#First semester scores:\n",
    "#Semst_A = pd.read_csv(\"Files/Reformated data/Sesmester 1_A (Formated).csv\")\n",
    "preApp_A.columns"
   ]
  },
  {
   "cell_type": "code",
   "execution_count": 167,
   "id": "04622764-8ba3-4a26-b564-4abb3bccf2e3",
   "metadata": {
    "tags": []
   },
   "outputs": [
    {
     "name": "stdout",
     "output_type": "stream",
     "text": [
      "<class 'pandas.core.frame.DataFrame'>\n",
      "Int64Index: 25 entries, 0 to 24\n",
      "Data columns (total 13 columns):\n",
      " #   Column                 Non-Null Count  Dtype  \n",
      "---  ------                 --------------  -----  \n",
      " 0   Student Number         25 non-null     int64  \n",
      " 1   Combined Score         25 non-null     float64\n",
      " 2   Physics Score          25 non-null     float64\n",
      " 3   Clinical Score         25 non-null     float64\n",
      " 4   Dexterity Score        25 non-null     float64\n",
      " 5   Persistence Score      25 non-null     float64\n",
      " 6   Problem Solving Score  25 non-null     float64\n",
      " 7   Graphs Score           25 non-null     float64\n",
      " 8   Judgement Score        25 non-null     float64\n",
      " 9   Spatial Score          25 non-null     float64\n",
      " 10  Visualization Score    25 non-null     float64\n",
      " 11  Logic Score            25 non-null     float64\n",
      " 12  Final Grade            25 non-null     float64\n",
      "dtypes: float64(12), int64(1)\n",
      "memory usage: 2.7 KB\n"
     ]
    }
   ],
   "source": [
    "preApp_A = preApp_A.dropna()\n",
    "#preApp_A = preApp_A.drop([1,3,10])\n",
    "preApp_A.info()"
   ]
  },
  {
   "cell_type": "code",
   "execution_count": 168,
   "id": "1154d673-fedd-4083-af8b-7ccd5dfe4af0",
   "metadata": {
    "collapsed": true,
    "jupyter": {
     "outputs_hidden": true
    },
    "tags": []
   },
   "outputs": [
    {
     "name": "stdout",
     "output_type": "stream",
     "text": [
      "(22, 13)\n",
      "(3, 13)\n"
     ]
    },
    {
     "data": {
      "text/html": [
       "<div>\n",
       "<style scoped>\n",
       "    .dataframe tbody tr th:only-of-type {\n",
       "        vertical-align: middle;\n",
       "    }\n",
       "\n",
       "    .dataframe tbody tr th {\n",
       "        vertical-align: top;\n",
       "    }\n",
       "\n",
       "    .dataframe thead th {\n",
       "        text-align: right;\n",
       "    }\n",
       "</style>\n",
       "<table border=\"1\" class=\"dataframe\">\n",
       "  <thead>\n",
       "    <tr style=\"text-align: right;\">\n",
       "      <th></th>\n",
       "      <th>Student Number</th>\n",
       "      <th>Combined Score</th>\n",
       "      <th>Physics Score</th>\n",
       "      <th>Clinical Score</th>\n",
       "      <th>Dexterity Score</th>\n",
       "      <th>Persistence Score</th>\n",
       "      <th>Problem Solving Score</th>\n",
       "      <th>Graphs Score</th>\n",
       "      <th>Judgement Score</th>\n",
       "      <th>Spatial Score</th>\n",
       "      <th>Visualization Score</th>\n",
       "      <th>Logic Score</th>\n",
       "      <th>Final Grade</th>\n",
       "    </tr>\n",
       "  </thead>\n",
       "  <tbody>\n",
       "    <tr>\n",
       "      <th>18</th>\n",
       "      <td>27</td>\n",
       "      <td>10.45</td>\n",
       "      <td>4.70</td>\n",
       "      <td>5.76</td>\n",
       "      <td>0.75</td>\n",
       "      <td>1.54</td>\n",
       "      <td>1.17</td>\n",
       "      <td>1.71</td>\n",
       "      <td>0.97</td>\n",
       "      <td>1.48</td>\n",
       "      <td>1.86</td>\n",
       "      <td>0.93</td>\n",
       "      <td>81.0077</td>\n",
       "    </tr>\n",
       "    <tr>\n",
       "      <th>22</th>\n",
       "      <td>32</td>\n",
       "      <td>4.05</td>\n",
       "      <td>-6.69</td>\n",
       "      <td>10.74</td>\n",
       "      <td>1.04</td>\n",
       "      <td>2.17</td>\n",
       "      <td>1.17</td>\n",
       "      <td>1.03</td>\n",
       "      <td>0.97</td>\n",
       "      <td>1.19</td>\n",
       "      <td>2.87</td>\n",
       "      <td>0.40</td>\n",
       "      <td>88.1860</td>\n",
       "    </tr>\n",
       "    <tr>\n",
       "      <th>7</th>\n",
       "      <td>15</td>\n",
       "      <td>10.66</td>\n",
       "      <td>9.00</td>\n",
       "      <td>1.66</td>\n",
       "      <td>1.08</td>\n",
       "      <td>1.15</td>\n",
       "      <td>1.95</td>\n",
       "      <td>1.03</td>\n",
       "      <td>0.78</td>\n",
       "      <td>1.19</td>\n",
       "      <td>1.15</td>\n",
       "      <td>1.06</td>\n",
       "      <td>84.0000</td>\n",
       "    </tr>\n",
       "  </tbody>\n",
       "</table>\n",
       "</div>"
      ],
      "text/plain": [
       "    Student Number  Combined Score  Physics Score  Clinical Score  \\\n",
       "18              27           10.45           4.70            5.76   \n",
       "22              32            4.05          -6.69           10.74   \n",
       "7               15           10.66           9.00            1.66   \n",
       "\n",
       "    Dexterity Score  Persistence Score  Problem Solving Score  Graphs Score  \\\n",
       "18             0.75               1.54                   1.17          1.71   \n",
       "22             1.04               2.17                   1.17          1.03   \n",
       "7              1.08               1.15                   1.95          1.03   \n",
       "\n",
       "    Judgement Score  Spatial Score  Visualization Score  Logic Score  \\\n",
       "18             0.97           1.48                 1.86         0.93   \n",
       "22             0.97           1.19                 2.87         0.40   \n",
       "7              0.78           1.19                 1.15         1.06   \n",
       "\n",
       "    Final Grade  \n",
       "18      81.0077  \n",
       "22      88.1860  \n",
       "7       84.0000  "
      ]
     },
     "execution_count": 168,
     "metadata": {},
     "output_type": "execute_result"
    }
   ],
   "source": [
    "#Semst_A\n",
    "preApp_A\n",
    "#preApp_A['Final Grade'] = pd.to_numeric(preApp_A['Final Grade'])\n",
    "training_set, test_set = train_test_split(preApp_A, test_size=0.1)\n",
    "print(training_set.shape)\n",
    "print(test_set.shape)\n",
    "\n",
    "test_set\n"
   ]
  },
  {
   "cell_type": "code",
   "execution_count": 160,
   "id": "da36252f-ea2b-4272-b622-86743935abdc",
   "metadata": {
    "collapsed": true,
    "jupyter": {
     "outputs_hidden": true
    },
    "tags": []
   },
   "outputs": [
    {
     "data": {
      "text/plain": [
       "[<matplotlib.lines.Line2D at 0x1518049a94a8>]"
      ]
     },
     "execution_count": 160,
     "metadata": {},
     "output_type": "execute_result"
    },
    {
     "data": {
      "image/png": "[encoded data removed]",
      "text/plain": [
       "<Figure size 432x288 with 1 Axes>"
      ]
     },
     "metadata": {
      "needs_background": "light"
     },
     "output_type": "display_data"
    }
   ],
   "source": [
    "#Making the model\n",
    "model = LinearRegression()\n",
    "model.fit(training_set[[\"Physics Score\"]], training_set['Final Grade'])\n",
    "# print(model.coef_) # beta_1\n",
    "# print(model.intercept_) # beta_0\n",
    "m = model.coef_   # slope\n",
    "b = model.intercept_ # y-intercept\n",
    "\n",
    "plt.plot(training_set[\"Physics Score\"], training_set['Final Grade'], 'b.')\n",
    "plt.title(\"Physics Score vs. Final Grade\")\n",
    "x_coordinates = np.array([0,20])\n",
    "y_coordinates = x_coordinates * m + b\n",
    "plt.plot(x_coordinates, y_coordinates, 'g-')"
   ]
  },
  {
   "cell_type": "code",
   "execution_count": 161,
   "id": "479e7d9a-c90d-467d-b631-73c9cd87186c",
   "metadata": {
    "collapsed": true,
    "jupyter": {
     "outputs_hidden": true
    },
    "tags": []
   },
   "outputs": [
    {
     "data": {
      "text/plain": [
       "[<matplotlib.lines.Line2D at 0x15180449aef0>]"
      ]
     },
     "execution_count": 161,
     "metadata": {},
     "output_type": "execute_result"
    },
    {
     "data": {
      "image/png": "[encoded data removed]",
      "text/plain": [
       "<Figure size 432x288 with 1 Axes>"
      ]
     },
     "metadata": {
      "needs_background": "light"
     },
     "output_type": "display_data"
    }
   ],
   "source": [
    "#Making the model\n",
    "model = LinearRegression()\n",
    "model.fit(training_set[[\"Clinical Score\"]], training_set['Final Grade'])\n",
    "# print(model.coef_) # beta_1\n",
    "# print(model.intercept_) # beta_0\n",
    "m = model.coef_   # slope\n",
    "b = model.intercept_ # y-intercept\n",
    "\n",
    "plt.plot(training_set[\"Clinical Score\"], training_set['Final Grade'], 'b.')\n",
    "plt.title(\"Clinical Score vs. Final Grade\")\n",
    "x_coordinates = np.array([0,20])\n",
    "y_coordinates = x_coordinates * m + b\n",
    "plt.plot(x_coordinates, y_coordinates, 'g-')"
   ]
  },
  {
   "cell_type": "code",
   "execution_count": 157,
   "id": "c69e9cb7-636f-4e4a-b477-d6451e213bf7",
   "metadata": {
    "collapsed": true,
    "jupyter": {
     "outputs_hidden": true
    },
    "tags": []
   },
   "outputs": [
    {
     "data": {
      "text/plain": [
       "[<matplotlib.lines.Line2D at 0x1518049c38d0>]"
      ]
     },
     "execution_count": 157,
     "metadata": {},
     "output_type": "execute_result"
    },
    {
     "data": {
      "image/png": "[encoded data removed]",
      "text/plain": [
       "<Figure size 432x288 with 1 Axes>"
      ]
     },
     "metadata": {
      "needs_background": "light"
     },
     "output_type": "display_data"
    }
   ],
   "source": [
    "#Making the model\n",
    "model = LinearRegression()\n",
    "model.fit(training_set[[\"Persistence Score\"]], training_set['Final Grade'])\n",
    "# print(model.coef_) # beta_1\n",
    "# print(model.intercept_) # beta_0\n",
    "m = model.coef_   # slope\n",
    "b = model.intercept_ # y-intercept\n",
    "\n",
    "plt.plot(training_set[\"Persistence Score\"], training_set['Final Grade'], 'b.')\n",
    "plt.title(\"Persistence Score vs. Final Grade\")\n",
    "x_coordinates = np.array([0,3])\n",
    "y_coordinates = x_coordinates * m + b\n",
    "plt.plot(x_coordinates, y_coordinates, 'g-')"
   ]
  },
  {
   "cell_type": "code",
   "execution_count": 163,
   "id": "ebde016f-dd91-46ff-a796-b35448444583",
   "metadata": {
    "collapsed": true,
    "jupyter": {
     "outputs_hidden": true,
     "source_hidden": true
    },
    "tags": []
   },
   "outputs": [
    {
     "name": "stdout",
     "output_type": "stream",
     "text": [
      "[1.27448]\n",
      "80.20518988603989\n"
     ]
    },
    {
     "data": {
      "text/plain": [
       "[<matplotlib.lines.Line2D at 0x15180437e7f0>]"
      ]
     },
     "execution_count": 163,
     "metadata": {},
     "output_type": "execute_result"
    },
    {
     "data": {
      "image/png": "[encoded data removed]",
      "text/plain": [
       "<Figure size 432x288 with 1 Axes>"
      ]
     },
     "metadata": {
      "needs_background": "light"
     },
     "output_type": "display_data"
    }
   ],
   "source": [
    "#Making the model\n",
    "model = LinearRegression()\n",
    "model.fit(training_set[[\"Problem Solving Score\"]], training_set['Final Grade'])\n",
    "print(model.coef_) # beta_1\n",
    "print(model.intercept_) # beta_0\n",
    "m = model.coef_   # slope\n",
    "b = model.intercept_ # y-intercept\n",
    "\n",
    "plt.plot(training_set[\"Problem Solving Score\"], training_set['Final Grade'], 'b.')\n",
    "plt.title(\"Problem Solving Score vs. Final Grade\")\n",
    "x_coordinates = np.array([0,3])\n",
    "y_coordinates = x_coordinates * m + b\n",
    "plt.plot(x_coordinates, y_coordinates, 'g-')"
   ]
  },
  {
   "cell_type": "code",
   "execution_count": 184,
   "id": "0de85556-24fc-4f0d-8c77-6fb23bf90bcb",
   "metadata": {
    "tags": []
   },
   "outputs": [
    {
     "name": "stdout",
     "output_type": "stream",
     "text": [
      "[-0.13885]\n",
      "83.63198647722524\n",
      "[0.21015]\n",
      "79.925263305077\n",
      "[0.27843]\n",
      "80.1040325060111\n",
      "[0.30339]\n",
      "80.46993380521468\n",
      "[9.32106]\n",
      "72.19757993171676\n",
      "[1.10445]\n",
      "79.70002386405626\n",
      "[1.45629]\n",
      "79.46893704735376\n",
      "[2.74501]\n",
      "77.09551232945029\n",
      "[-0.75872]\n",
      "81.85447134997315\n",
      "[4.21167]\n",
      "76.29886458143241\n",
      "[-0.30694]\n",
      "81.51767352653548\n",
      "[9.96825]\n",
      "70.32648225505179\n",
      "[1.00000]\n",
      "1.4210854715202004e-14\n"
     ]
    },
    {
     "data": {
      "image/png": "[encoded data removed]",
      "text/plain": [
       "<Figure size 432x288 with 1 Axes>"
      ]
     },
     "metadata": {
      "needs_background": "light"
     },
     "output_type": "display_data"
    },
    {
     "data": {
      "image/png": "[encoded data removed]",
      "text/plain": [
       "<Figure size 432x288 with 1 Axes>"
      ]
     },
     "metadata": {
      "needs_background": "light"
     },
     "output_type": "display_data"
    },
    {
     "data": {
      "image/png": "[encoded data removed]",
      "text/plain": [
       "<Figure size 432x288 with 1 Axes>"
      ]
     },
     "metadata": {
      "needs_background": "light"
     },
     "output_type": "display_data"
    },
    {
     "data": {
      "image/png": "[encoded data removed]",
      "text/plain": [
       "<Figure size 432x288 with 1 Axes>"
      ]
     },
     "metadata": {
      "needs_background": "light"
     },
     "output_type": "display_data"
    },
    {
     "data": {
      "image/png": "[encoded data removed]",
      "text/plain": [
       "<Figure size 432x288 with 1 Axes>"
      ]
     },
     "metadata": {
      "needs_background": "light"
     },
     "output_type": "display_data"
    },
    {
     "data": {
      "image/png": "[encoded data removed]",
      "text/plain": [
       "<Figure size 432x288 with 1 Axes>"
      ]
     },
     "metadata": {
      "needs_background": "light"
     },
     "output_type": "display_data"
    },
    {
     "data": {
      "image/png": "[encoded data removed]",
      "text/plain": [
       "<Figure size 432x288 with 1 Axes>"
      ]
     },
     "metadata": {
      "needs_background": "light"
     },
     "output_type": "display_data"
    },
    {
     "data": {
      "image/png": "[encoded data removed]",
      "text/plain": [
       "<Figure size 432x288 with 1 Axes>"
      ]
     },
     "metadata": {
      "needs_background": "light"
     },
     "output_type": "display_data"
    },
    {
     "data": {
      "image/png": "[encoded data removed]",
      "text/plain": [
       "<Figure size 432x288 with 1 Axes>"
      ]
     },
     "metadata": {
      "needs_background": "light"
     },
     "output_type": "display_data"
    },
    {
     "data": {
      "image/png": "[encoded data removed]",
      "text/plain": [
       "<Figure size 432x288 with 1 Axes>"
      ]
     },
     "metadata": {
      "needs_background": "light"
     },
     "output_type": "display_data"
    },
    {
     "data": {
      "image/png": "[encoded data removed]",
      "text/plain": [
       "<Figure size 432x288 with 1 Axes>"
      ]
     },
     "metadata": {
      "needs_background": "light"
     },
     "output_type": "display_data"
    },
    {
     "data": {
      "image/png": "[encoded data removed]",
      "text/plain": [
       "<Figure size 432x288 with 1 Axes>"
      ]
     },
     "metadata": {
      "needs_background": "light"
     },
     "output_type": "display_data"
    },
    {
     "data": {
      "image/png": "[encoded data removed]",
      "text/plain": [
       "<Figure size 432x288 with 1 Axes>"
      ]
     },
     "metadata": {
      "needs_background": "light"
     },
     "output_type": "display_data"
    }
   ],
   "source": [
    "#Making the model\n",
    "for i in training_set.columns: \n",
    "    model = LinearRegression()\n",
    "    model.fit(training_set[[i]], training_set['Final Grade'])\n",
    "    print(model.coef_) # beta_1\n",
    "    print(model.intercept_) # beta_0\n",
    "    m = model.coef_   # slope\n",
    "    b = model.intercept_ # y-intercept\n",
    "\n",
    "    plt.figure()\n",
    "    plt.plot(training_set[i], training_set['Final Grade'], 'b.')\n",
    "    plt.title(i + \" vs. Final Grade\")\n",
    "    x_coordinates = np.array([0,10])\n",
    "    y_coordinates = x_coordinates * m + b\n",
    "    plt.plot(x_coordinates, y_coordinates, 'g-')\n",
    "    plt.savefig(i + \" vs. Final Grade.png\")"
   ]
  },
  {
   "cell_type": "code",
   "execution_count": 111,
   "id": "8f7a6a80-4229-492b-9914-b37d42e80cda",
   "metadata": {
    "collapsed": true,
    "jupyter": {
     "outputs_hidden": true,
     "source_hidden": true
    },
    "tags": []
   },
   "outputs": [
    {
     "data": {
      "image/png": "[encoded data removed]",
      "text/plain": [
       "<Figure size 432x288 with 1 Axes>"
      ]
     },
     "metadata": {
      "needs_background": "light"
     },
     "output_type": "display_data"
    }
   ],
   "source": [
    "m = model.coef_[0]\n",
    "n = model.coef_[1]\n",
    "\n",
    "plt.plot(preApp_A['Physics Score'], preApp_A['Final Grade'], 'b.')\n",
    "plt.show()"
   ]
  },
  {
   "cell_type": "code",
   "execution_count": 108,
   "id": "2103dfaa-3ea8-4031-81fa-dc2575eb1a15",
   "metadata": {
    "jupyter": {
     "source_hidden": true
    },
    "tags": []
   },
   "outputs": [
    {
     "name": "stdout",
     "output_type": "stream",
     "text": [
      "MSE on the training set: 25.409376548705573\n"
     ]
    }
   ],
   "source": [
    "#Cost function, measuring the model's efficiency\n",
    "from sklearn.metrics import mean_squared_error\n",
    "input_cols = [\"Physics Score\", \"Clinical Score\"]\n",
    "y_pred = model.predict(training_set[input_cols])\n",
    "training_MSE = mean_squared_error(training_set['Final Grade'], y_pred)\n",
    "print(\"MSE on the training set:\", training_MSE)"
   ]
  },
  {
   "cell_type": "code",
   "execution_count": 115,
   "id": "b0c61c76-3b77-4fc1-a3f2-0b07925f7912",
   "metadata": {},
   "outputs": [
    {
     "data": {
      "text/plain": [
       "array([80.37496])"
      ]
     },
     "execution_count": 115,
     "metadata": {},
     "output_type": "execute_result"
    }
   ],
   "source": []
  },
  {
   "cell_type": "code",
   "execution_count": 86,
   "id": "54aa6d5c-4e7c-473f-9384-48a2e609bef7",
   "metadata": {},
   "outputs": [
    {
     "name": "stdout",
     "output_type": "stream",
     "text": [
      "MSE on the training set: 32.07503393302071\n"
     ]
    }
   ],
   "source": [
    "# The MSE of model2 on the test set\n",
    "y_pred = model.predict(test_set[input_cols])\n",
    "test_MSE = mean_squared_error(test_set['Final Grade'], y_pred)\n",
    "print(\"MSE on the training set:\", test_MSE)"
   ]
  },
  {
   "cell_type": "code",
   "execution_count": 79,
   "id": "20f28e32-b29f-4e9c-a18d-c4ccb3113e57",
   "metadata": {},
   "outputs": [
    {
     "data": {
      "text/plain": [
       "array([[81.26290],\n",
       "       [0.10211],\n",
       "       [0.35481]])"
      ]
     },
     "execution_count": 79,
     "metadata": {},
     "output_type": "execute_result"
    }
   ],
   "source": [
    "# Construct matrix X using np.hstack(), np.ones()\n",
    "N = len(training_set) # N = training_set.shape[0]\n",
    "col1 = np.ones([N, 1])\n",
    "# print(col1)\n",
    "col23 = training_set[[\"Physics Score\", \"Clinical Score\"]].values\n",
    "# print(col234)\n",
    "X = np.hstack([col1, col23])\n",
    "# Construct vector y\n",
    "y = training_set[['Final Grade']].values\n",
    "\n",
    "# Apply the normal equation to find theta\n",
    "np.set_printoptions(formatter={'float': lambda x: \"{0:0.5f}\".format(x)})\n",
    "np.linalg.inv(X.T.dot(X)).dot(X.T).dot(y)"
   ]
  },
  {
   "cell_type": "code",
   "execution_count": 54,
   "id": "1aada642-d8bf-4ac9-85ba-459b24305027",
   "metadata": {
    "tags": []
   },
   "outputs": [
    {
     "data": {
      "text/plain": [
       "Index(['Student Number', 'Physics Score', 'Clinical Score', 'Final Grade'], dtype='object')"
      ]
     },
     "execution_count": 54,
     "metadata": {},
     "output_type": "execute_result"
    }
   ],
   "source": [
    "##Clean preapp:\n",
    "\n",
    "toDel = ['Dexterity Score','Graphs Score', 'Spatial Score',\n",
    "       'Visualization Score','Student Number']\n",
    "preApp_A.columns\n"
   ]
  },
  {
   "cell_type": "code",
   "execution_count": 6,
   "id": "5e927bc7-95c9-4eeb-a26b-69a6d07d57d3",
   "metadata": {
    "jupyter": {
     "source_hidden": true
    },
    "tags": []
   },
   "outputs": [],
   "source": [
    "preApp_A = preApp_A.drop(toDel, 1)"
   ]
  },
  {
   "cell_type": "code",
   "execution_count": 7,
   "id": "2722baad-8d8d-4e9f-a225-ccb9e44ffaa8",
   "metadata": {
    "jupyter": {
     "source_hidden": true
    },
    "tags": []
   },
   "outputs": [
    {
     "data": {
      "text/html": [
       "<div>\n",
       "<style scoped>\n",
       "    .dataframe tbody tr th:only-of-type {\n",
       "        vertical-align: middle;\n",
       "    }\n",
       "\n",
       "    .dataframe tbody tr th {\n",
       "        vertical-align: top;\n",
       "    }\n",
       "\n",
       "    .dataframe thead th {\n",
       "        text-align: right;\n",
       "    }\n",
       "</style>\n",
       "<table border=\"1\" class=\"dataframe\">\n",
       "  <thead>\n",
       "    <tr style=\"text-align: right;\">\n",
       "      <th></th>\n",
       "      <th>Combined</th>\n",
       "      <th>Physics</th>\n",
       "      <th>Clinical</th>\n",
       "      <th>Persistence</th>\n",
       "      <th>ProbSolving</th>\n",
       "      <th>Judgement</th>\n",
       "      <th>Logic</th>\n",
       "    </tr>\n",
       "  </thead>\n",
       "  <tbody>\n",
       "    <tr>\n",
       "      <th>0</th>\n",
       "      <td>7.71</td>\n",
       "      <td>8.78</td>\n",
       "      <td>-1.07</td>\n",
       "      <td>0.84</td>\n",
       "      <td>0.78</td>\n",
       "      <td>0.58</td>\n",
       "      <td>1.06</td>\n",
       "    </tr>\n",
       "    <tr>\n",
       "      <th>1</th>\n",
       "      <td>-7.79</td>\n",
       "      <td>1.57</td>\n",
       "      <td>-9.36</td>\n",
       "      <td>0.67</td>\n",
       "      <td>-0.78</td>\n",
       "      <td>0.58</td>\n",
       "      <td>1.19</td>\n",
       "    </tr>\n",
       "    <tr>\n",
       "      <th>2</th>\n",
       "      <td>22.95</td>\n",
       "      <td>12.26</td>\n",
       "      <td>10.69</td>\n",
       "      <td>1.16</td>\n",
       "      <td>2.34</td>\n",
       "      <td>1.17</td>\n",
       "      <td>1.19</td>\n",
       "    </tr>\n",
       "    <tr>\n",
       "      <th>3</th>\n",
       "      <td>10.39</td>\n",
       "      <td>8.34</td>\n",
       "      <td>2.05</td>\n",
       "      <td>0.87</td>\n",
       "      <td>2.34</td>\n",
       "      <td>1.07</td>\n",
       "      <td>1.06</td>\n",
       "    </tr>\n",
       "    <tr>\n",
       "      <th>4</th>\n",
       "      <td>-16.24</td>\n",
       "      <td>-6.99</td>\n",
       "      <td>-9.26</td>\n",
       "      <td>0.53</td>\n",
       "      <td>0.39</td>\n",
       "      <td>0.97</td>\n",
       "      <td>0.80</td>\n",
       "    </tr>\n",
       "    <tr>\n",
       "      <th>5</th>\n",
       "      <td>-2.57</td>\n",
       "      <td>1.82</td>\n",
       "      <td>-4.39</td>\n",
       "      <td>0.83</td>\n",
       "      <td>0.39</td>\n",
       "      <td>0.97</td>\n",
       "      <td>1.19</td>\n",
       "    </tr>\n",
       "    <tr>\n",
       "      <th>6</th>\n",
       "      <td>-7.39</td>\n",
       "      <td>-6.27</td>\n",
       "      <td>-1.12</td>\n",
       "      <td>1.18</td>\n",
       "      <td>0.39</td>\n",
       "      <td>1.17</td>\n",
       "      <td>0.93</td>\n",
       "    </tr>\n",
       "    <tr>\n",
       "      <th>7</th>\n",
       "      <td>NaN</td>\n",
       "      <td>NaN</td>\n",
       "      <td>NaN</td>\n",
       "      <td>NaN</td>\n",
       "      <td>NaN</td>\n",
       "      <td>NaN</td>\n",
       "      <td>NaN</td>\n",
       "    </tr>\n",
       "    <tr>\n",
       "      <th>8</th>\n",
       "      <td>5.60</td>\n",
       "      <td>2.27</td>\n",
       "      <td>3.33</td>\n",
       "      <td>1.31</td>\n",
       "      <td>0.78</td>\n",
       "      <td>1.17</td>\n",
       "      <td>1.19</td>\n",
       "    </tr>\n",
       "    <tr>\n",
       "      <th>9</th>\n",
       "      <td>12.75</td>\n",
       "      <td>2.00</td>\n",
       "      <td>10.75</td>\n",
       "      <td>1.97</td>\n",
       "      <td>1.17</td>\n",
       "      <td>1.07</td>\n",
       "      <td>0.93</td>\n",
       "    </tr>\n",
       "    <tr>\n",
       "      <th>10</th>\n",
       "      <td>-0.07</td>\n",
       "      <td>-6.50</td>\n",
       "      <td>6.43</td>\n",
       "      <td>1.37</td>\n",
       "      <td>1.56</td>\n",
       "      <td>1.26</td>\n",
       "      <td>0.66</td>\n",
       "    </tr>\n",
       "  </tbody>\n",
       "</table>\n",
       "</div>"
      ],
      "text/plain": [
       "    Combined  Physics  Clinical  Persistence  ProbSolving  Judgement  Logic\n",
       "0       7.71     8.78     -1.07         0.84         0.78       0.58   1.06\n",
       "1      -7.79     1.57     -9.36         0.67        -0.78       0.58   1.19\n",
       "2      22.95    12.26     10.69         1.16         2.34       1.17   1.19\n",
       "3      10.39     8.34      2.05         0.87         2.34       1.07   1.06\n",
       "4     -16.24    -6.99     -9.26         0.53         0.39       0.97   0.80\n",
       "5      -2.57     1.82     -4.39         0.83         0.39       0.97   1.19\n",
       "6      -7.39    -6.27     -1.12         1.18         0.39       1.17   0.93\n",
       "7        NaN      NaN       NaN          NaN          NaN        NaN    NaN\n",
       "8       5.60     2.27      3.33         1.31         0.78       1.17   1.19\n",
       "9      12.75     2.00     10.75         1.97         1.17       1.07   0.93\n",
       "10     -0.07    -6.50      6.43         1.37         1.56       1.26   0.66"
      ]
     },
     "execution_count": 7,
     "metadata": {},
     "output_type": "execute_result"
    }
   ],
   "source": [
    "newName = {'Combined Score': 'Combined',\n",
    "            'Physics Score': 'Physics',\n",
    "            'Clinical Score': 'Clinical',\n",
    "            'Persistence Score': 'Persistence',\n",
    "            'Problem Solving Score': 'ProbSolving',\n",
    "            'Judgement Score': 'Judgement',\n",
    "            'Logic Score': 'Logic'}\n",
    "# for n in newName:\n",
    "#     print(\"'\"+ n + \" Score': '\" + n + \"',\" )\n",
    "preApp_A.rename(columns = newName, inplace = True)\n",
    "preApp_A"
   ]
  },
  {
   "cell_type": "code",
   "execution_count": 8,
   "id": "dacb13a9-fa08-41dc-a164-0531a6dcba86",
   "metadata": {},
   "outputs": [],
   "source": [
    "preApp_A = preApp_A.drop(\"Combined\", 1)"
   ]
  },
  {
   "cell_type": "code",
   "execution_count": 12,
   "id": "8cdce5c4-fa3f-4d53-8faa-6b5b49b570a3",
   "metadata": {
    "collapsed": true,
    "jupyter": {
     "outputs_hidden": true
    },
    "tags": []
   },
   "outputs": [
    {
     "name": "stdout",
     "output_type": "stream",
     "text": [
      "Defaulting to user installation because normal site-packages is not writeable\n",
      "Collecting sklearn\n",
      "  Downloading sklearn-0.0.tar.gz (1.1 kB)\n",
      "  Preparing metadata (setup.py) ... \u001b[?25ldone\n",
      "\u001b[?25hCollecting scikit-learn\n",
      "  Downloading scikit_learn-0.24.2-cp36-cp36m-manylinux2010_x86_64.whl (22.2 MB)\n",
      "     |████████████████████████████████| 22.2 MB 4.4 MB/s            \n",
      "\u001b[?25hCollecting joblib>=0.11\n",
      "  Downloading joblib-1.1.1-py2.py3-none-any.whl (309 kB)\n",
      "     |████████████████████████████████| 309 kB 43.7 MB/s            \n",
      "\u001b[?25hRequirement already satisfied: scipy>=0.19.1 in /usr/local/lib64/python3.6/site-packages (from scikit-learn->sklearn) (1.5.4)\n",
      "Collecting threadpoolctl>=2.0.0\n",
      "  Downloading threadpoolctl-3.1.0-py3-none-any.whl (14 kB)\n",
      "Requirement already satisfied: numpy>=1.13.3 in /usr/local/lib64/python3.6/site-packages (from scikit-learn->sklearn) (1.19.5)\n",
      "Building wheels for collected packages: sklearn\n",
      "  Building wheel for sklearn (setup.py) ... \u001b[?25ldone\n",
      "\u001b[?25h  Created wheel for sklearn: filename=sklearn-0.0-py2.py3-none-any.whl size=1316 sha256=161383f5c8d9fded23a6291925ae4e0a32e908389b15bcd87561fccceeafc392\n",
      "  Stored in directory: /mnt/orangefs/hacker/.cache/pip/wheels/23/9d/42/5ec745cbbb17517000a53cecc49d6a865450d1f5cb16dc8a9c\n",
      "Successfully built sklearn\n",
      "Installing collected packages: threadpoolctl, joblib, scikit-learn, sklearn\n",
      "Successfully installed joblib-1.1.1 scikit-learn-0.24.2 sklearn-0.0 threadpoolctl-3.1.0\n"
     ]
    }
   ],
   "source": [
    "!pip install sklearn"
   ]
  },
  {
   "cell_type": "code",
   "execution_count": 15,
   "id": "6b021cd0-04f4-443e-b7e5-6c132fd10b35",
   "metadata": {},
   "outputs": [
    {
     "ename": "NameError",
     "evalue": "name 'df' is not defined",
     "output_type": "error",
     "traceback": [
      "\u001b[0;31m---------------------------------------------------------------------------\u001b[0m",
      "\u001b[0;31mNameError\u001b[0m                                 Traceback (most recent call last)",
      "\u001b[0;32m<ipython-input-15-96baef8b2531>\u001b[0m in \u001b[0;36m<module>\u001b[0;34m\u001b[0m\n\u001b[1;32m      2\u001b[0m \u001b[0mstd_scaler\u001b[0m \u001b[0;34m=\u001b[0m \u001b[0mStandardScaler\u001b[0m\u001b[0;34m(\u001b[0m\u001b[0;34m)\u001b[0m\u001b[0;34m\u001b[0m\u001b[0;34m\u001b[0m\u001b[0m\n\u001b[1;32m      3\u001b[0m \u001b[0;34m\u001b[0m\u001b[0m\n\u001b[0;32m----> 4\u001b[0;31m \u001b[0mdf_scaled\u001b[0m \u001b[0;34m=\u001b[0m \u001b[0mstd_scaler\u001b[0m\u001b[0;34m.\u001b[0m\u001b[0mfit_transform\u001b[0m\u001b[0;34m(\u001b[0m\u001b[0mdf\u001b[0m\u001b[0;34m.\u001b[0m\u001b[0mto_numpy\u001b[0m\u001b[0;34m(\u001b[0m\u001b[0;34m)\u001b[0m\u001b[0;34m)\u001b[0m\u001b[0;34m\u001b[0m\u001b[0;34m\u001b[0m\u001b[0m\n\u001b[0m\u001b[1;32m      5\u001b[0m df_scaled = pd.DataFrame(df_scaled, columns=[\n\u001b[1;32m      6\u001b[0m   'Physics','Clinical'])\n",
      "\u001b[0;31mNameError\u001b[0m: name 'df' is not defined"
     ]
    }
   ],
   "source": [
    "from sklearn.preprocessing import StandardScaler\n",
    "std_scaler = StandardScaler()\n",
    "\n",
    "df_scaled = std_scaler.fit_transform(df.to_numpy())\n",
    "df_scaled = pd.DataFrame(df_scaled, columns=[\n",
    "  'Physics','Clinical'])\n",
    " \n",
    "print(\"Scaled Dataset Using StandardScaler\")\n",
    "df_scaled.head()\n"
   ]
  },
  {
   "cell_type": "code",
   "execution_count": 9,
   "id": "c94ca785-6453-4bd9-b952-a718ffeb162d",
   "metadata": {},
   "outputs": [
    {
     "data": {
      "text/html": [
       "<div>\n",
       "<style scoped>\n",
       "    .dataframe tbody tr th:only-of-type {\n",
       "        vertical-align: middle;\n",
       "    }\n",
       "\n",
       "    .dataframe tbody tr th {\n",
       "        vertical-align: top;\n",
       "    }\n",
       "\n",
       "    .dataframe thead th {\n",
       "        text-align: right;\n",
       "    }\n",
       "</style>\n",
       "<table border=\"1\" class=\"dataframe\">\n",
       "  <thead>\n",
       "    <tr style=\"text-align: right;\">\n",
       "      <th></th>\n",
       "      <th>Physics</th>\n",
       "      <th>Clinical</th>\n",
       "      <th>Persistence</th>\n",
       "      <th>ProbSolving</th>\n",
       "      <th>Judgement</th>\n",
       "      <th>Logic</th>\n",
       "    </tr>\n",
       "  </thead>\n",
       "  <tbody>\n",
       "    <tr>\n",
       "      <th>Physics</th>\n",
       "      <td>1.000000</td>\n",
       "      <td>0.364143</td>\n",
       "      <td>-0.008655</td>\n",
       "      <td>0.464971</td>\n",
       "      <td>-0.257834</td>\n",
       "      <td>0.703511</td>\n",
       "    </tr>\n",
       "    <tr>\n",
       "      <th>Clinical</th>\n",
       "      <td>0.364143</td>\n",
       "      <td>1.000000</td>\n",
       "      <td>0.834191</td>\n",
       "      <td>0.768637</td>\n",
       "      <td>0.607948</td>\n",
       "      <td>-0.086866</td>\n",
       "    </tr>\n",
       "    <tr>\n",
       "      <th>Persistence</th>\n",
       "      <td>-0.008655</td>\n",
       "      <td>0.834191</td>\n",
       "      <td>1.000000</td>\n",
       "      <td>0.357911</td>\n",
       "      <td>0.541048</td>\n",
       "      <td>-0.213313</td>\n",
       "    </tr>\n",
       "    <tr>\n",
       "      <th>ProbSolving</th>\n",
       "      <td>0.464971</td>\n",
       "      <td>0.768637</td>\n",
       "      <td>0.357911</td>\n",
       "      <td>1.000000</td>\n",
       "      <td>0.586603</td>\n",
       "      <td>-0.123594</td>\n",
       "    </tr>\n",
       "    <tr>\n",
       "      <th>Judgement</th>\n",
       "      <td>-0.257834</td>\n",
       "      <td>0.607948</td>\n",
       "      <td>0.541048</td>\n",
       "      <td>0.586603</td>\n",
       "      <td>1.000000</td>\n",
       "      <td>-0.350684</td>\n",
       "    </tr>\n",
       "    <tr>\n",
       "      <th>Logic</th>\n",
       "      <td>0.703511</td>\n",
       "      <td>-0.086866</td>\n",
       "      <td>-0.213313</td>\n",
       "      <td>-0.123594</td>\n",
       "      <td>-0.350684</td>\n",
       "      <td>1.000000</td>\n",
       "    </tr>\n",
       "  </tbody>\n",
       "</table>\n",
       "</div>"
      ],
      "text/plain": [
       "              Physics  Clinical  Persistence  ProbSolving  Judgement     Logic\n",
       "Physics      1.000000  0.364143    -0.008655     0.464971  -0.257834  0.703511\n",
       "Clinical     0.364143  1.000000     0.834191     0.768637   0.607948 -0.086866\n",
       "Persistence -0.008655  0.834191     1.000000     0.357911   0.541048 -0.213313\n",
       "ProbSolving  0.464971  0.768637     0.357911     1.000000   0.586603 -0.123594\n",
       "Judgement   -0.257834  0.607948     0.541048     0.586603   1.000000 -0.350684\n",
       "Logic        0.703511 -0.086866    -0.213313    -0.123594  -0.350684  1.000000"
      ]
     },
     "execution_count": 9,
     "metadata": {},
     "output_type": "execute_result"
    }
   ],
   "source": [
    "cor = preApp_A.corr()\n",
    "cor"
   ]
  },
  {
   "cell_type": "code",
   "execution_count": 90,
   "id": "703b1b4a-6bf9-4d77-82c0-21569a2d9b4d",
   "metadata": {},
   "outputs": [],
   "source": [
    "#Use the sqlite3 library and creat a connection to a database\n",
    "#if there is no current database, connection will creat one\n",
    "cnn = sqlite3.connect('StudentDB.db')"
   ]
  },
  {
   "cell_type": "code",
   "execution_count": 52,
   "id": "ccca6ef5-4300-4516-a1cb-c6a2b9a864bd",
   "metadata": {},
   "outputs": [],
   "source": [
    "#adding the data framea to the database under the names PA, PB and PC. \n",
    "preApp_A.to_sql('PA', cnn)\n",
    "preApp_B.to_sql('PB', cnn)\n",
    "preApp_C.to_sql('PC', cnn)"
   ]
  },
  {
   "cell_type": "code",
   "execution_count": 53,
   "id": "a1524de4-259b-4e75-9759-191b87bb1d2a",
   "metadata": {
    "tags": []
   },
   "outputs": [
    {
     "name": "stdout",
     "output_type": "stream",
     "text": [
      "The sql extension is already loaded. To reload it, use:\n",
      "  %reload_ext sql\n"
     ]
    }
   ],
   "source": [
    "#Load the sql module to iPython\n",
    "\n",
    "%load_ext sql"
   ]
  },
  {
   "cell_type": "code",
   "execution_count": 56,
   "id": "6a0ce30e-82aa-4afd-a82f-46a244789331",
   "metadata": {},
   "outputs": [],
   "source": [
    "%sql sqlite:///StudentDB.db"
   ]
  },
  {
   "cell_type": "code",
   "execution_count": 57,
   "id": "965c4019-ac51-4d45-b132-02cf5de4f5d9",
   "metadata": {
    "tags": []
   },
   "outputs": [
    {
     "name": "stdout",
     "output_type": "stream",
     "text": [
      " * sqlite:///StudentDB.db\n",
      "   sqlite:///jupyter_sql_tutorial.db\n",
      "Done.\n"
     ]
    },
    {
     "data": {
      "text/html": [
       "<table>\n",
       "    <tr>\n",
       "        <th>index</th>\n",
       "        <th>Student Number</th>\n",
       "        <th>Combined Score</th>\n",
       "        <th>Physics Score</th>\n",
       "        <th>Clinical Score</th>\n",
       "        <th>Dexterity Score</th>\n",
       "        <th>Persistence Score</th>\n",
       "        <th>Problem Solving Score</th>\n",
       "        <th>Graphs Score</th>\n",
       "        <th>Judgement Score</th>\n",
       "        <th>Spatial Score</th>\n",
       "        <th>Visualization Score</th>\n",
       "        <th>Logic Score</th>\n",
       "    </tr>\n",
       "    <tr>\n",
       "        <td>0</td>\n",
       "        <td>1</td>\n",
       "        <td>8.28</td>\n",
       "        <td>1.97</td>\n",
       "        <td>6.31</td>\n",
       "        <td>0.99</td>\n",
       "        <td>1.02</td>\n",
       "        <td>2.34</td>\n",
       "        <td>1.71</td>\n",
       "        <td>1.75</td>\n",
       "        <td>1.48</td>\n",
       "        <td>2.01</td>\n",
       "        <td>1.19</td>\n",
       "    </tr>\n",
       "    <tr>\n",
       "        <td>1</td>\n",
       "        <td>2</td>\n",
       "        <td>13.24</td>\n",
       "        <td>9.23</td>\n",
       "        <td>4.01</td>\n",
       "        <td>0.99</td>\n",
       "        <td>1.11</td>\n",
       "        <td>1.17</td>\n",
       "        <td>1.37</td>\n",
       "        <td>0.97</td>\n",
       "        <td>1.19</td>\n",
       "        <td>2.15</td>\n",
       "        <td>1.19</td>\n",
       "    </tr>\n",
       "    <tr>\n",
       "        <td>2</td>\n",
       "        <td>3</td>\n",
       "        <td>10.77</td>\n",
       "        <td>8.06</td>\n",
       "        <td>2.71</td>\n",
       "        <td>0.66</td>\n",
       "        <td>0.95</td>\n",
       "        <td>0.78</td>\n",
       "        <td>1.71</td>\n",
       "        <td>1.07</td>\n",
       "        <td>1.78</td>\n",
       "        <td>1.43</td>\n",
       "        <td>1.19</td>\n",
       "    </tr>\n",
       "    <tr>\n",
       "        <td>3</td>\n",
       "        <td>4</td>\n",
       "        <td>15.27</td>\n",
       "        <td>3.24</td>\n",
       "        <td>12.03</td>\n",
       "        <td>0.95</td>\n",
       "        <td>2.02</td>\n",
       "        <td>1.17</td>\n",
       "        <td>1.71</td>\n",
       "        <td>1.17</td>\n",
       "        <td>1.78</td>\n",
       "        <td>1.86</td>\n",
       "        <td>1.06</td>\n",
       "    </tr>\n",
       "    <tr>\n",
       "        <td>4</td>\n",
       "        <td>5</td>\n",
       "        <td>6.92</td>\n",
       "        <td>1.13</td>\n",
       "        <td>5.79</td>\n",
       "        <td>0.78</td>\n",
       "        <td>2.37</td>\n",
       "        <td>1.56</td>\n",
       "        <td>1.37</td>\n",
       "        <td>0.97</td>\n",
       "        <td>1.19</td>\n",
       "        <td>1.43</td>\n",
       "        <td>1.06</td>\n",
       "    </tr>\n",
       "    <tr>\n",
       "        <td>5</td>\n",
       "        <td>6</td>\n",
       "        <td>10.45</td>\n",
       "        <td>4.7</td>\n",
       "        <td>5.76</td>\n",
       "        <td>0.75</td>\n",
       "        <td>1.54</td>\n",
       "        <td>1.17</td>\n",
       "        <td>1.71</td>\n",
       "        <td>0.97</td>\n",
       "        <td>1.48</td>\n",
       "        <td>1.86</td>\n",
       "        <td>0.93</td>\n",
       "    </tr>\n",
       "    <tr>\n",
       "        <td>6</td>\n",
       "        <td>7</td>\n",
       "        <td>10.38</td>\n",
       "        <td>12.05</td>\n",
       "        <td>-1.67</td>\n",
       "        <td>0.98</td>\n",
       "        <td>0.93</td>\n",
       "        <td>1.95</td>\n",
       "        <td>1.03</td>\n",
       "        <td>0.78</td>\n",
       "        <td>0.59</td>\n",
       "        <td>2.15</td>\n",
       "        <td>1.19</td>\n",
       "    </tr>\n",
       "    <tr>\n",
       "        <td>7</td>\n",
       "        <td>8</td>\n",
       "        <td>11.96</td>\n",
       "        <td>4.86</td>\n",
       "        <td>7.1</td>\n",
       "        <td>0.97</td>\n",
       "        <td>1.51</td>\n",
       "        <td>1.17</td>\n",
       "        <td>1.71</td>\n",
       "        <td>1.07</td>\n",
       "        <td>1.48</td>\n",
       "        <td>2.01</td>\n",
       "        <td>1.06</td>\n",
       "    </tr>\n",
       "    <tr>\n",
       "        <td>8</td>\n",
       "        <td>9</td>\n",
       "        <td>7.83</td>\n",
       "        <td>8.65</td>\n",
       "        <td>-0.82</td>\n",
       "        <td>0.81</td>\n",
       "        <td>0.77</td>\n",
       "        <td>2.34</td>\n",
       "        <td>1.71</td>\n",
       "        <td>1.17</td>\n",
       "        <td>1.48</td>\n",
       "        <td>0.72</td>\n",
       "        <td>1.19</td>\n",
       "    </tr>\n",
       "    <tr>\n",
       "        <td>9</td>\n",
       "        <td>10</td>\n",
       "        <td>19.35</td>\n",
       "        <td>12.03</td>\n",
       "        <td>7.32</td>\n",
       "        <td>1.03</td>\n",
       "        <td>1.42</td>\n",
       "        <td>1.56</td>\n",
       "        <td>1.71</td>\n",
       "        <td>0.88</td>\n",
       "        <td>1.48</td>\n",
       "        <td>2.15</td>\n",
       "        <td>1.19</td>\n",
       "    </tr>\n",
       "    <tr>\n",
       "        <td>10</td>\n",
       "        <td>11</td>\n",
       "        <td>4.05</td>\n",
       "        <td>-6.69</td>\n",
       "        <td>10.74</td>\n",
       "        <td>1.04</td>\n",
       "        <td>2.17</td>\n",
       "        <td>1.17</td>\n",
       "        <td>1.03</td>\n",
       "        <td>0.97</td>\n",
       "        <td>1.19</td>\n",
       "        <td>2.87</td>\n",
       "        <td>0.4</td>\n",
       "    </tr>\n",
       "    <tr>\n",
       "        <td>11</td>\n",
       "        <td>12</td>\n",
       "        <td>8.86</td>\n",
       "        <td>-0.26</td>\n",
       "        <td>9.12</td>\n",
       "        <td>1.2</td>\n",
       "        <td>1.67</td>\n",
       "        <td>1.17</td>\n",
       "        <td>1.71</td>\n",
       "        <td>1.46</td>\n",
       "        <td>1.19</td>\n",
       "        <td>2.01</td>\n",
       "        <td>1.19</td>\n",
       "    </tr>\n",
       "    <tr>\n",
       "        <td>12</td>\n",
       "        <td>13</td>\n",
       "        <td>14.07</td>\n",
       "        <td>5.06</td>\n",
       "        <td>9.01</td>\n",
       "        <td>1.25</td>\n",
       "        <td>2.19</td>\n",
       "        <td>1.56</td>\n",
       "        <td>1.71</td>\n",
       "        <td>0.97</td>\n",
       "        <td>0.89</td>\n",
       "        <td>2.44</td>\n",
       "        <td>1.19</td>\n",
       "    </tr>\n",
       "</table>"
      ],
      "text/plain": [
       "[(0, 1, 8.28, 1.97, 6.31, 0.99, 1.02, 2.34, 1.71, 1.75, 1.48, 2.01, 1.19),\n",
       " (1, 2, 13.24, 9.23, 4.01, 0.99, 1.11, 1.17, 1.37, 0.97, 1.19, 2.15, 1.19),\n",
       " (2, 3, 10.77, 8.06, 2.71, 0.66, 0.95, 0.78, 1.71, 1.07, 1.78, 1.43, 1.19),\n",
       " (3, 4, 15.27, 3.24, 12.03, 0.95, 2.02, 1.17, 1.71, 1.17, 1.78, 1.86, 1.06),\n",
       " (4, 5, 6.92, 1.13, 5.79, 0.78, 2.37, 1.56, 1.37, 0.97, 1.19, 1.43, 1.06),\n",
       " (5, 6, 10.45, 4.7, 5.76, 0.75, 1.54, 1.17, 1.71, 0.97, 1.48, 1.86, 0.93),\n",
       " (6, 7, 10.38, 12.05, -1.67, 0.98, 0.93, 1.95, 1.03, 0.78, 0.59, 2.15, 1.19),\n",
       " (7, 8, 11.96, 4.86, 7.1, 0.97, 1.51, 1.17, 1.71, 1.07, 1.48, 2.01, 1.06),\n",
       " (8, 9, 7.83, 8.65, -0.82, 0.81, 0.77, 2.34, 1.71, 1.17, 1.48, 0.72, 1.19),\n",
       " (9, 10, 19.35, 12.03, 7.32, 1.03, 1.42, 1.56, 1.71, 0.88, 1.48, 2.15, 1.19),\n",
       " (10, 11, 4.05, -6.69, 10.74, 1.04, 2.17, 1.17, 1.03, 0.97, 1.19, 2.87, 0.4),\n",
       " (11, 12, 8.86, -0.26, 9.12, 1.2, 1.67, 1.17, 1.71, 1.46, 1.19, 2.01, 1.19),\n",
       " (12, 13, 14.07, 5.06, 9.01, 1.25, 2.19, 1.56, 1.71, 0.97, 0.89, 2.44, 1.19)]"
      ]
     },
     "execution_count": 57,
     "metadata": {},
     "output_type": "execute_result"
    }
   ],
   "source": [
    "%%sql\n",
    "\n",
    "/* Write SQL code in here (this line is a comment)*/\n",
    "\n",
    "SELECT *\n",
    "FROM PC"
   ]
  },
  {
   "cell_type": "code",
   "execution_count": null,
   "id": "a8a3f75e-d1c2-41d1-8a96-906806718c73",
   "metadata": {},
   "outputs": [],
   "source": []
  }
 ],
 "metadata": {
  "kernelspec": {
   "display_name": "Python 3",
   "language": "python",
   "name": "python3"
  },
  "language_info": {
   "codemirror_mode": {
    "name": "ipython",
    "version": 3
   },
   "file_extension": ".py",
   "mimetype": "text/x-python",
   "name": "python",
   "nbconvert_exporter": "python",
   "pygments_lexer": "ipython3",
   "version": "3.6.8"
  }
 },
 "nbformat": 4,
 "nbformat_minor": 5
}
